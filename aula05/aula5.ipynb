{
 "cells": [
  {
   "cell_type": "code",
   "execution_count": 1,
   "id": "f1485150-450f-4420-b5c8-2f5d5b36b4f2",
   "metadata": {},
   "outputs": [
    {
     "name": "stdout",
     "output_type": "stream",
     "text": [
      "Hello World!\n"
     ]
    }
   ],
   "source": [
    "print (\"Hello World!\")"
   ]
  },
  {
   "cell_type": "code",
   "execution_count": 2,
   "id": "bd41b363-5e1c-4b69-88a3-df9b289e9fd2",
   "metadata": {},
   "outputs": [
    {
     "data": {
      "text/plain": [
       "10"
      ]
     },
     "execution_count": 2,
     "metadata": {},
     "output_type": "execute_result"
    }
   ],
   "source": [
    "5+5"
   ]
  },
  {
   "cell_type": "code",
   "execution_count": 3,
   "id": "b681826d-5986-4288-8c24-1e1bde65b5bb",
   "metadata": {},
   "outputs": [],
   "source": [
    "nome = \"Henrique\" "
   ]
  },
  {
   "cell_type": "code",
   "execution_count": 5,
   "id": "aaad4daf-73da-4f63-98d9-91857577bf41",
   "metadata": {},
   "outputs": [
    {
     "data": {
      "text/plain": [
       "'Henrique'"
      ]
     },
     "execution_count": 5,
     "metadata": {},
     "output_type": "execute_result"
    }
   ],
   "source": [
    "nome"
   ]
  },
  {
   "cell_type": "code",
   "execution_count": 6,
   "id": "c743b59f-f413-4bfd-b06d-aee8c0d528ff",
   "metadata": {},
   "outputs": [
    {
     "name": "stdout",
     "output_type": "stream",
     "text": [
      "Henrique\n"
     ]
    }
   ],
   "source": [
    "print (nome)"
   ]
  },
  {
   "cell_type": "code",
   "execution_count": 11,
   "id": "12b95028-cd37-435b-bb36-0454b233441b",
   "metadata": {},
   "outputs": [],
   "source": [
    "x = 345"
   ]
  },
  {
   "cell_type": "code",
   "execution_count": 12,
   "id": "b69a4d11-1119-4170-9066-6c7bc0179d90",
   "metadata": {},
   "outputs": [],
   "source": [
    "y = x + 2"
   ]
  },
  {
   "cell_type": "code",
   "execution_count": 13,
   "id": "2f4907ff-e10a-44ea-a43e-1dbccb75f6ef",
   "metadata": {},
   "outputs": [
    {
     "name": "stdout",
     "output_type": "stream",
     "text": [
      "347\n"
     ]
    }
   ],
   "source": [
    "print (y)"
   ]
  },
  {
   "cell_type": "code",
   "execution_count": 14,
   "id": "aa193b0a-bf19-42c0-a292-b292c79decf9",
   "metadata": {},
   "outputs": [
    {
     "data": {
      "text/plain": [
       "347"
      ]
     },
     "execution_count": 14,
     "metadata": {},
     "output_type": "execute_result"
    }
   ],
   "source": [
    "y"
   ]
  },
  {
   "cell_type": "code",
   "execution_count": 19,
   "id": "6f56585b-16bf-455e-99f4-4d20be3b3142",
   "metadata": {},
   "outputs": [],
   "source": [
    "a=5"
   ]
  },
  {
   "cell_type": "code",
   "execution_count": 20,
   "id": "6e77f5ea-66e2-492a-ac42-72dfcd138324",
   "metadata": {},
   "outputs": [
    {
     "data": {
      "text/plain": [
       "int"
      ]
     },
     "execution_count": 20,
     "metadata": {},
     "output_type": "execute_result"
    }
   ],
   "source": [
    "type(a)"
   ]
  },
  {
   "cell_type": "code",
   "execution_count": 22,
   "id": "ee07fc73-7f13-4d2b-adca-362add352d17",
   "metadata": {},
   "outputs": [],
   "source": [
    "a = True"
   ]
  },
  {
   "cell_type": "code",
   "execution_count": 23,
   "id": "5f1515fa-1788-4540-a2dc-96a277635217",
   "metadata": {},
   "outputs": [
    {
     "data": {
      "text/plain": [
       "bool"
      ]
     },
     "execution_count": 23,
     "metadata": {},
     "output_type": "execute_result"
    }
   ],
   "source": [
    "type(a)"
   ]
  },
  {
   "cell_type": "code",
   "execution_count": 24,
   "id": "0bcc75ca-95c1-4d9a-9e32-6faaaabcc0ec",
   "metadata": {},
   "outputs": [],
   "source": [
    "a = 5.6"
   ]
  },
  {
   "cell_type": "code",
   "execution_count": 25,
   "id": "10075716-b0d1-4de0-8870-d9b814eefd44",
   "metadata": {},
   "outputs": [
    {
     "data": {
      "text/plain": [
       "float"
      ]
     },
     "execution_count": 25,
     "metadata": {},
     "output_type": "execute_result"
    }
   ],
   "source": [
    "type(a)"
   ]
  },
  {
   "cell_type": "code",
   "execution_count": 27,
   "id": "3dbb0318-507d-4c4f-859f-1ccee0471f62",
   "metadata": {},
   "outputs": [],
   "source": [
    "x = 5\n",
    "y = 23"
   ]
  },
  {
   "cell_type": "code",
   "execution_count": 29,
   "id": "3256eb5c-d7a1-45f0-a3c7-cb50f9b7049c",
   "metadata": {},
   "outputs": [],
   "source": [
    "soma = x + y "
   ]
  },
  {
   "cell_type": "code",
   "execution_count": 30,
   "id": "e620e49c-99e7-44c7-9acb-554b560651a0",
   "metadata": {},
   "outputs": [
    {
     "data": {
      "text/plain": [
       "int"
      ]
     },
     "execution_count": 30,
     "metadata": {},
     "output_type": "execute_result"
    }
   ],
   "source": [
    "type(soma)"
   ]
  },
  {
   "cell_type": "code",
   "execution_count": 31,
   "id": "267a1f90-a43a-498f-a016-14812e9fb405",
   "metadata": {},
   "outputs": [
    {
     "name": "stdout",
     "output_type": "stream",
     "text": [
      "28\n"
     ]
    }
   ],
   "source": [
    "print (soma)"
   ]
  },
  {
   "cell_type": "code",
   "execution_count": 32,
   "id": "fb7670cf-988a-406f-90d1-00c3e69ef54a",
   "metadata": {},
   "outputs": [
    {
     "data": {
      "text/plain": [
       "0.21739130434782608"
      ]
     },
     "execution_count": 32,
     "metadata": {},
     "output_type": "execute_result"
    }
   ],
   "source": [
    "x / y"
   ]
  },
  {
   "cell_type": "code",
   "execution_count": 33,
   "id": "7f8a077b-3438-4e30-8577-d51971fb8eac",
   "metadata": {},
   "outputs": [
    {
     "data": {
      "text/plain": [
       "0"
      ]
     },
     "execution_count": 33,
     "metadata": {},
     "output_type": "execute_result"
    }
   ],
   "source": [
    "x // y"
   ]
  },
  {
   "cell_type": "code",
   "execution_count": 34,
   "id": "44f810cf-2c9b-4f98-99ca-9eed3895314d",
   "metadata": {},
   "outputs": [
    {
     "data": {
      "text/plain": [
       "5"
      ]
     },
     "execution_count": 34,
     "metadata": {},
     "output_type": "execute_result"
    }
   ],
   "source": [
    "x % y "
   ]
  },
  {
   "cell_type": "code",
   "execution_count": 35,
   "id": "870f9873-610b-485a-b6a7-4366f2a19a6d",
   "metadata": {},
   "outputs": [],
   "source": [
    "x = True"
   ]
  },
  {
   "cell_type": "code",
   "execution_count": 36,
   "id": "881bf69a-4407-4ce1-bad3-583c97b0fed0",
   "metadata": {},
   "outputs": [
    {
     "data": {
      "text/plain": [
       "True"
      ]
     },
     "execution_count": 36,
     "metadata": {},
     "output_type": "execute_result"
    }
   ],
   "source": [
    "x"
   ]
  },
  {
   "cell_type": "code",
   "execution_count": 37,
   "id": "fd5c9e03-fa2a-4753-8440-9bc7b6397750",
   "metadata": {},
   "outputs": [],
   "source": [
    "y = False"
   ]
  },
  {
   "cell_type": "code",
   "execution_count": 38,
   "id": "8e65a679-d623-4624-bee7-e2c6da05411f",
   "metadata": {},
   "outputs": [
    {
     "data": {
      "text/plain": [
       "False"
      ]
     },
     "execution_count": 38,
     "metadata": {},
     "output_type": "execute_result"
    }
   ],
   "source": [
    "x and y"
   ]
  },
  {
   "cell_type": "code",
   "execution_count": 39,
   "id": "abe61379-5582-4c9f-8165-462b46af683f",
   "metadata": {},
   "outputs": [
    {
     "data": {
      "text/plain": [
       "True"
      ]
     },
     "execution_count": 39,
     "metadata": {},
     "output_type": "execute_result"
    }
   ],
   "source": [
    "x or y "
   ]
  },
  {
   "cell_type": "code",
   "execution_count": 41,
   "id": "01cf69bb-cd4d-4027-ad71-f477a160f0a0",
   "metadata": {},
   "outputs": [
    {
     "data": {
      "text/plain": [
       "False"
      ]
     },
     "execution_count": 41,
     "metadata": {},
     "output_type": "execute_result"
    }
   ],
   "source": [
    "not x"
   ]
  },
  {
   "cell_type": "code",
   "execution_count": 42,
   "id": "36f1f41e-6955-498c-97a6-1ee910884fe3",
   "metadata": {},
   "outputs": [
    {
     "data": {
      "text/plain": [
       "'Henrique'"
      ]
     },
     "execution_count": 42,
     "metadata": {},
     "output_type": "execute_result"
    }
   ],
   "source": [
    "nome "
   ]
  },
  {
   "cell_type": "code",
   "execution_count": 43,
   "id": "d9dcff6e-7a62-4a9c-b2e9-50349b93a155",
   "metadata": {},
   "outputs": [
    {
     "data": {
      "text/plain": [
       "str"
      ]
     },
     "execution_count": 43,
     "metadata": {},
     "output_type": "execute_result"
    }
   ],
   "source": [
    "type(nome)"
   ]
  },
  {
   "cell_type": "code",
   "execution_count": 45,
   "id": "ffbafe3b-66c8-463e-829b-474ba124a045",
   "metadata": {},
   "outputs": [],
   "source": [
    "sobrenome = \"Ernande\""
   ]
  },
  {
   "cell_type": "code",
   "execution_count": 48,
   "id": "031a7c6e-2aaf-4191-9005-d0c19240daa1",
   "metadata": {},
   "outputs": [],
   "source": [
    "nome_completo = nome + ' ' + sobrenome"
   ]
  },
  {
   "cell_type": "code",
   "execution_count": 49,
   "id": "b68d35ca-e421-41ef-8649-871d8b59ad7a",
   "metadata": {},
   "outputs": [
    {
     "name": "stdout",
     "output_type": "stream",
     "text": [
      "Henrique Ernande\n"
     ]
    }
   ],
   "source": [
    "print(nome_completo)"
   ]
  },
  {
   "cell_type": "code",
   "execution_count": 50,
   "id": "8001426f-0853-4962-a4ce-cdf7cf93a949",
   "metadata": {},
   "outputs": [
    {
     "data": {
      "text/plain": [
       "'HenriqueHenriqueHenriqueHenrique'"
      ]
     },
     "execution_count": 50,
     "metadata": {},
     "output_type": "execute_result"
    }
   ],
   "source": [
    "nome * 4 "
   ]
  },
  {
   "cell_type": "code",
   "execution_count": 51,
   "id": "f88825f7-6cdf-4ad0-ab7a-0fab6717a2b3",
   "metadata": {},
   "outputs": [
    {
     "data": {
      "text/plain": [
       "'Henrique ErnandeHenrique ErnandeHenrique ErnandeHenrique ErnandeHenrique Ernande'"
      ]
     },
     "execution_count": 51,
     "metadata": {},
     "output_type": "execute_result"
    }
   ],
   "source": [
    "nome_completo * 5"
   ]
  },
  {
   "cell_type": "code",
   "execution_count": 52,
   "id": "85036347-ec78-4f17-bf2b-3e0012a51111",
   "metadata": {},
   "outputs": [
    {
     "data": {
      "text/plain": [
       "'H'"
      ]
     },
     "execution_count": 52,
     "metadata": {},
     "output_type": "execute_result"
    }
   ],
   "source": [
    "nome[0]"
   ]
  },
  {
   "cell_type": "code",
   "execution_count": 53,
   "id": "7bef5f0d-f3b5-4373-90d5-0d1a79e3af79",
   "metadata": {},
   "outputs": [
    {
     "data": {
      "text/plain": [
       "'Henrique'"
      ]
     },
     "execution_count": 53,
     "metadata": {},
     "output_type": "execute_result"
    }
   ],
   "source": [
    "nome[0:9]"
   ]
  }
 ],
 "metadata": {
  "kernelspec": {
   "display_name": "Python 3 (ipykernel)",
   "language": "python",
   "name": "python3"
  },
  "language_info": {
   "codemirror_mode": {
    "name": "ipython",
    "version": 3
   },
   "file_extension": ".py",
   "mimetype": "text/x-python",
   "name": "python",
   "nbconvert_exporter": "python",
   "pygments_lexer": "ipython3",
   "version": "3.12.4"
  }
 },
 "nbformat": 4,
 "nbformat_minor": 5
}
