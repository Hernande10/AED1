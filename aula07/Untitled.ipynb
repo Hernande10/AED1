{
 "cells": [
  {
   "cell_type": "code",
   "execution_count": 7,
   "id": "12b99c8b-93dc-4b7f-93bb-b4843c7e3234",
   "metadata": {},
   "outputs": [
    {
     "ename": "NameError",
     "evalue": "name 'sal' is not defined",
     "output_type": "error",
     "traceback": [
      "\u001b[1;31m---------------------------------------------------------------------------\u001b[0m",
      "\u001b[1;31mNameError\u001b[0m                                 Traceback (most recent call last)",
      "Cell \u001b[1;32mIn[7], line 1\u001b[0m\n\u001b[1;32m----> 1\u001b[0m \u001b[38;5;28;01mif\u001b[39;00m sal \u001b[38;5;241m<\u001b[39m \u001b[38;5;241m1200\u001b[39m:\n\u001b[0;32m      2\u001b[0m     desconto \u001b[38;5;241m=\u001b[39m \u001b[38;5;241m0\u001b[39m\n\u001b[0;32m      3\u001b[0m \u001b[38;5;28;01mif\u001b[39;00m (sal \u001b[38;5;241m>\u001b[39m\u001b[38;5;241m=\u001b[39m \u001b[38;5;241m1200\u001b[39m) \u001b[38;5;129;01mand\u001b[39;00m (sal\u001b[38;5;241m<\u001b[39m \u001b[38;5;241m3000\u001b[39m):\n",
      "\u001b[1;31mNameError\u001b[0m: name 'sal' is not defined"
     ]
    }
   ],
   "source": [
    "if sal < 1200:\n",
    "    desconto = 0\n",
    "if (sal >= 1200) and (sal< 3000):\n",
    "    desconto = 15\n",
    "if (sal >= 3000) and (sal < 5500):\n",
    "    desc = 20\n",
    "if (sal >= 5500):\n",
    "    desc = 27"
   ]
  },
  {
   "cell_type": "code",
   "execution_count": null,
   "id": "e4837336-993e-411a-a898-4ffacd702a88",
   "metadata": {},
   "outputs": [],
   "source": []
  }
 ],
 "metadata": {
  "kernelspec": {
   "display_name": "Python 3 (ipykernel)",
   "language": "python",
   "name": "python3"
  },
  "language_info": {
   "codemirror_mode": {
    "name": "ipython",
    "version": 3
   },
   "file_extension": ".py",
   "mimetype": "text/x-python",
   "name": "python",
   "nbconvert_exporter": "python",
   "pygments_lexer": "ipython3",
   "version": "3.12.4"
  }
 },
 "nbformat": 4,
 "nbformat_minor": 5
}
