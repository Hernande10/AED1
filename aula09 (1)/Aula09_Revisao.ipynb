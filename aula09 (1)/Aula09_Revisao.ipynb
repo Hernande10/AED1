{
 "cells": [
  {
   "cell_type": "markdown",
   "metadata": {},
   "source": [
    "![Algoritmos e Estrutura de Dados I](AED1_banner.jpg)"
   ]
  },
  {
   "cell_type": "markdown",
   "metadata": {},
   "source": [
    "## <font color='blue'>Algoritmos e Estrutura de Dados I</font>\n",
    "## <font color='blue'>Aula 9 -  Revisão</font>"
   ]
  },
  {
   "cell_type": "code",
   "execution_count": null,
   "metadata": {},
   "outputs": [],
   "source": [
    "# Versão da Linguagem Python\n",
    "from platform import python_version\n",
    "print('Versão da Linguagem Python Usada Neste Jupyter Notebook:', python_version())"
   ]
  },
  {
   "cell_type": "markdown",
   "metadata": {},
   "source": [
    "## Estrutura sequencial"
   ]
  },
  {
   "cell_type": "markdown",
   "metadata": {},
   "source": [
    "Escreva um programa em Python que solicite ao usuário o valor de dois números, calcule e exiba a soma deles."
   ]
  },
  {
   "cell_type": "code",
   "execution_count": 2,
   "metadata": {},
   "outputs": [
    {
     "name": "stdin",
     "output_type": "stream",
     "text": [
      "Digite o primeiro numero:  30\n",
      "Digiete o segundo numero 25\n"
     ]
    },
    {
     "name": "stdout",
     "output_type": "stream",
     "text": [
      "A soma dos números é: 55.0\n"
     ]
    }
   ],
   "source": [
    "n1 = float (input(\"Digite o primeiro numero: \"))\n",
    "n2 = float (input(\"Digiete o segundo numero\"))\n",
    "\n",
    "soma = n1 + n2 \n",
    "\n",
    "print (\"A soma dos números é:\", soma)\n"
   ]
  },
  {
   "attachments": {},
   "cell_type": "markdown",
   "metadata": {},
   "source": [
    "Escreva um programa em Python que solicite ao usuário a temperatura em graus Celsius e converta para Fahrenheit. A fórmula para conversão é F = C * 9/5 + 32.\n"
   ]
  },
  {
   "cell_type": "code",
   "execution_count": 7,
   "metadata": {},
   "outputs": [
    {
     "name": "stdin",
     "output_type": "stream",
     "text": [
      "Digite a temperatura em celsius:  38\n"
     ]
    },
    {
     "name": "stdout",
     "output_type": "stream",
     "text": [
      " A sua temperatura em fahrenheit é: 100.4\n"
     ]
    }
   ],
   "source": [
    "celsius = float(input(\"Digite a temperatura em celsius: \"))\n",
    "\n",
    "#Fórmula\n",
    "F = ((celsius * 9) /5) + 32\n",
    "\n",
    "print (\" A sua temperatura em fahrenheit é:\", F)\n"
   ]
  },
  {
   "cell_type": "markdown",
   "metadata": {},
   "source": [
    "## Estrutura Condicional"
   ]
  },
  {
   "cell_type": "markdown",
   "metadata": {},
   "source": [
    "Escreva um programa em Python que solicite ao usuário um número e verifique se ele é positivo, negativo ou zero. Exiba a mensagem correspondente.\n"
   ]
  },
  {
   "cell_type": "code",
   "execution_count": 16,
   "metadata": {},
   "outputs": [
    {
     "name": "stdin",
     "output_type": "stream",
     "text": [
      " Digite o seu numero:  45\n"
     ]
    },
    {
     "name": "stdout",
     "output_type": "stream",
     "text": [
      "Seu número é positivo!\n"
     ]
    }
   ],
   "source": [
    "#Recebendo o primeiro número\n",
    "n1 = int(input(\" Digite o seu numero: \"))\n",
    "\n",
    "if n1 > 0:\n",
    "    print (\"Seu número é positivo!\")\n",
    "elif n1 == 0:\n",
    "    print (\"Seu numero é zero!\")\n",
    "else:\n",
    "    print (\"Seu numero é negativo\")\n"
   ]
  },
  {
   "cell_type": "markdown",
   "metadata": {},
   "source": [
    "Escreva um programa em Python que solicite ao usuário três números e determine qual é o maior entre eles.\n"
   ]
  },
  {
   "cell_type": "code",
   "execution_count": 22,
   "metadata": {},
   "outputs": [
    {
     "name": "stdin",
     "output_type": "stream",
     "text": [
      "Digite o primeiro número:  34\n",
      "Digite o segundo número:  65\n",
      "Digite o terceiro número:  32\n"
     ]
    },
    {
     "name": "stdout",
     "output_type": "stream",
     "text": [
      "O número 2 é o maior!\n"
     ]
    }
   ],
   "source": [
    "n1 = float(input(\"Digite o primeiro número: \"))\n",
    "n2 = float(input(\"Digite o segundo número: \"))\n",
    "n3 = float(input(\"Digite o terceiro número: \"))\n",
    "\n",
    "if n1 > n2 > n3:\n",
    "    print (\"O número 1 é o maior!\")\n",
    "elif n2 > n1 > n3:\n",
    "     print (\"O número 2 é o maior!\")\n",
    "else:\n",
    "    print (\" O numero 3 é o maior!\")\n"
   ]
  },
  {
   "cell_type": "markdown",
   "metadata": {},
   "source": [
    "## Estrutura de Repetição"
   ]
  },
  {
   "cell_type": "markdown",
   "metadata": {},
   "source": [
    "Escreva um programa em Python que exiba todos os números de 1 a 10.\n"
   ]
  },
  {
   "cell_type": "code",
   "execution_count": 45,
   "metadata": {},
   "outputs": [
    {
     "name": "stdin",
     "output_type": "stream",
     "text": [
      "Digite um valor de um valor de 0 a 9:  4\n"
     ]
    },
    {
     "name": "stdout",
     "output_type": "stream",
     "text": [
      "1 x  4.0 =  4.0\n",
      "2 x  4.0 =  8.0\n",
      "3 x  4.0 = 12.0\n",
      "4 x  4.0 = 16.0\n",
      "5 x  4.0 = 20.0\n",
      "6 x  4.0 = 24.0\n",
      "7 x  4.0 = 28.0\n",
      "8 x  4.0 = 32.0\n",
      "9 x  4.0 = 36.0\n",
      "10 x  4.0 = 40.0\n"
     ]
    }
   ],
   "source": [
    "while True:\n",
    "    digitacao =  input(\"Digite um valor de um valor de 0 a 9: \")\n",
    "    if digitacao.isnumeric():\n",
    "        numero = float(digitacao)\n",
    "    if numero >= 1 and numero <=9:\n",
    "        break\n",
    "    else:\n",
    "        print(\"Digite um valor entre 1 e 9!\")\n",
    "else:\n",
    "    print(\"O numero digitado não é um numero! Repita! \")\n",
    "    \n",
    "for i in range (1,11):\n",
    "    print(f\"{i} x {numero:4.1f} = {(i*numero):4.1f}\")\n",
    "\n",
    "\n",
    "    "
   ]
  },
  {
   "cell_type": "markdown",
   "metadata": {},
   "source": [
    "Escreva um programa em Python que solicite ao usuário um número inteiro positivo e calcule o fatorial desse número.\n"
   ]
  },
  {
   "cell_type": "code",
   "execution_count": 53,
   "metadata": {},
   "outputs": [
    {
     "name": "stdin",
     "output_type": "stream",
     "text": [
      "Digite um numero inteiro e positivo:  5\n"
     ]
    },
    {
     "name": "stdout",
     "output_type": "stream",
     "text": [
      " O fatorial de 5 é: 120\n"
     ]
    }
   ],
   "source": [
    "while True:\n",
    "    digitacao =  input(\"Digite um numero inteiro e positivo: \")\n",
    "    if digitacao.isnumeric():\n",
    "        numero = int(digitacao)\n",
    "    if numero >= 1 and numero <=9:\n",
    "        break\n",
    "    else:\n",
    "        print(\"Digite um valor entre 1 e 9!\")\n",
    "else:\n",
    "    print(\"O numero digitado não é um numero! Repita! \")\n",
    "\n",
    "fatorial = 1\n",
    "for i in range (1, numero + 1):\n",
    "    fatorial *= i\n",
    "print (\" O fatorial de\", numero, \"é:\", fatorial)\n",
    "\n",
    "\n",
    "             \n"
   ]
  },
  {
   "cell_type": "markdown",
   "metadata": {},
   "source": [
    "## Geral"
   ]
  },
  {
   "cell_type": "markdown",
   "metadata": {},
   "source": [
    "Você é um cientista de dados e precisa analisar as notas de um conjunto de estudantes em uma disciplina. Você deverá escrever um programa em Python que solicite ao usuário o número de estudantes e, em seguida, as notas desses estudantes. O programa deve calcular e exibir:\n",
    "\n",
    "- A média das notas.\n",
    "- A maior e a menor nota.\n",
    "- O número de estudantes aprovados (nota maior ou igual a 6) e reprovados (nota menor que 6).\n",
    "\n",
    "Regras:\n",
    "\n",
    "- Utilize variáveis simples para armazenar as informações.\n",
    "- Utilize estruturas de repetição para coletar as notas dos estudantes.\n",
    "- Utilize estruturas condicionais para determinar o status de aprovação dos estudantes."
   ]
  },
  {
   "cell_type": "code",
   "execution_count": 64,
   "metadata": {},
   "outputs": [
    {
     "name": "stdin",
     "output_type": "stream",
     "text": [
      "Digite o numero de estudantes:  4\n",
      "Entre com a nota do aluno 1:  4.6\n",
      "Entre com a nota do aluno 2:  3.4\n",
      "Entre com a nota do aluno 3:  7.2\n",
      "Entre com a nota do aluno 4:  9\n"
     ]
    },
    {
     "name": "stdout",
     "output_type": "stream",
     "text": [
      " A media das notas é igual a: 6.05\n",
      " A menor nota é igual a: 3.4\n",
      " A maior nota é igual a: 9.0\n",
      " O numero de aprovados é: 2\n",
      " O numero de reprovados é: 2\n"
     ]
    }
   ],
   "source": [
    "num_estudantes = int(input(\"Digite o numero de estudantes: \"))\n",
    "soma_notas = 0\n",
    "maior = 0\n",
    "menor = 100\n",
    "qtd_aprov = 0\n",
    "qtd_reprov = 0\n",
    "\n",
    "for i in range(num_estudantes):\n",
    "    nota = float(input(f\"Entre com a nota do aluno {i+1}: \"))\n",
    "    if nota >=6:\n",
    "        qtd_aprov +=1\n",
    "    else:\n",
    "        qtd_reprov += 1\n",
    "\n",
    "    if nota > maior:\n",
    "        maior = nota \n",
    "    if nota < menor:\n",
    "        menor = nota\n",
    "    soma_notas += nota\n",
    "\n",
    "media = soma_notas / num_estudantes\n",
    "print(f\" A media das notas é igual a: {media}\")\n",
    "print(f\" A menor nota é igual a: {menor}\")\n",
    "print(f\" A maior nota é igual a: {maior}\")\n",
    "print(f\" O numero de aprovados é: {qtd_aprov}\")\n",
    "print(f\" O numero de reprovados é: {qtd_reprov}\")"
   ]
  },
  {
   "cell_type": "markdown",
   "metadata": {},
   "source": [
    "Faça um programa que receba um número inteiro positivo e transforme esse número para binário."
   ]
  },
  {
   "cell_type": "code",
   "execution_count": 70,
   "metadata": {},
   "outputs": [
    {
     "name": "stdin",
     "output_type": "stream",
     "text": [
      "Digite um valor na base 10:  145\n"
     ]
    },
    {
     "name": "stdout",
     "output_type": "stream",
     "text": [
      " O numero 0 em binário é:  10010001\n"
     ]
    }
   ],
   "source": [
    "num1 = int(input(\"Digite um valor na base 10: \"))\n",
    "b = ''\n",
    "\n",
    "if num1 == 0:\n",
    " b = '0'\n",
    "\n",
    "else:\n",
    "    while num1 > 0:\n",
    "       resto = num1 % 2 \n",
    "       digito = str(resto)\n",
    "       b = digito + b\n",
    "       num1 // 2\n",
    "       num1 = num1 // 2\n",
    "print (f\" O numero {num1} em binário é: \", b)\n",
    "        \n",
    "\n"
   ]
  },
  {
   "cell_type": "markdown",
   "metadata": {},
   "source": [
    "## Fim da Aula 9"
   ]
  }
 ],
 "metadata": {
  "kernelspec": {
   "display_name": "Python 3 (ipykernel)",
   "language": "python",
   "name": "python3"
  },
  "language_info": {
   "codemirror_mode": {
    "name": "ipython",
    "version": 3
   },
   "file_extension": ".py",
   "mimetype": "text/x-python",
   "name": "python",
   "nbconvert_exporter": "python",
   "pygments_lexer": "ipython3",
   "version": "3.12.4"
  }
 },
 "nbformat": 4,
 "nbformat_minor": 4
}
